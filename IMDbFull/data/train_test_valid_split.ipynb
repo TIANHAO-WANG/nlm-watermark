{
 "cells": [
  {
   "cell_type": "code",
   "execution_count": 4,
   "metadata": {},
   "outputs": [
    {
     "data": {
      "text/plain": [
       "<spacy.lang.en.English at 0x133f53978>"
      ]
     },
     "execution_count": 4,
     "metadata": {},
     "output_type": "execute_result"
    }
   ],
   "source": [
    "import torch\n",
    "from torchtext import data , datasets,vocab\n",
    "import torchtext\n",
    "import os\n",
    "from torch import nn\n",
    "from torch.autograd import Variable\n",
    "import torch.nn.functional as F\n",
    "import spacy\n",
    "import io\n",
    "import pickle\n",
    "import glob\n",
    "from torch.optim.lr_scheduler import StepLR\n",
    "spacy.load('en')"
   ]
  },
  {
   "cell_type": "code",
   "execution_count": 5,
   "metadata": {},
   "outputs": [],
   "source": [
    "TEXT = data.Field(lower=True,tokenize='spacy')\n",
    "LABEL = data.Field(sequential=False,)"
   ]
  },
  {
   "cell_type": "code",
   "execution_count": 6,
   "metadata": {},
   "outputs": [],
   "source": [
    "text_field, label_field = TEXT, LABEL\n",
    "path = \"aclImdb/train\"\n",
    "fields = [('text', text_field), ('label', label_field)]\n",
    "X_train = []\n",
    "for label in ['pos', 'neg']:\n",
    "    for fname in glob.iglob(os.path.join(path, label, '*.txt')):\n",
    "        with io.open(fname, 'r', encoding=\"utf-8\") as f:\n",
    "              text = f.readline()\n",
    "        X_train.append(data.Example.fromlist([text, label], fields))"
   ]
  },
  {
   "cell_type": "code",
   "execution_count": 7,
   "metadata": {},
   "outputs": [],
   "source": [
    "path = \"aclImdb/test\"\n",
    "fields = [('text', text_field), ('label', label_field)]\n",
    "examples = []\n",
    "for label in ['pos', 'neg']:\n",
    "    for fname in glob.iglob(os.path.join(path, label, '*.txt')):\n",
    "        with io.open(fname, 'r', encoding=\"utf-8\") as f:\n",
    "              text = f.readline()\n",
    "        examples.append(data.Example.fromlist([text, label], fields))"
   ]
  },
  {
   "cell_type": "code",
   "execution_count": 8,
   "metadata": {},
   "outputs": [],
   "source": [
    "from sklearn.model_selection import train_test_split"
   ]
  },
  {
   "cell_type": "code",
   "execution_count": 9,
   "metadata": {},
   "outputs": [],
   "source": [
    "X_val, X_test = train_test_split(examples, test_size=0.2)"
   ]
  },
  {
   "cell_type": "code",
   "execution_count": 10,
   "metadata": {},
   "outputs": [],
   "source": [
    "all_data = {\"train\":X_train,\"validation\":X_val,\"test\":X_test}"
   ]
  },
  {
   "cell_type": "code",
   "execution_count": 11,
   "metadata": {},
   "outputs": [],
   "source": [
    "with open(\"imdb_splitted.pkl\",\"wb\") as f:\n",
    "    pickle.dump(all_data,f)"
   ]
  },
  {
   "cell_type": "code",
   "execution_count": 15,
   "metadata": {},
   "outputs": [
    {
     "name": "stdout",
     "output_type": "stream",
     "text": [
      "25000\n",
      "20000\n",
      "5000\n"
     ]
    }
   ],
   "source": [
    "for k in all_data:\n",
    "    print(len(all_data[k]))"
   ]
  }
 ],
 "metadata": {
  "kernelspec": {
   "display_name": "Python 3",
   "language": "python",
   "name": "python3"
  },
  "language_info": {
   "codemirror_mode": {
    "name": "ipython",
    "version": 3
   },
   "file_extension": ".py",
   "mimetype": "text/x-python",
   "name": "python",
   "nbconvert_exporter": "python",
   "pygments_lexer": "ipython3",
   "version": "3.7.3"
  }
 },
 "nbformat": 4,
 "nbformat_minor": 2
}
